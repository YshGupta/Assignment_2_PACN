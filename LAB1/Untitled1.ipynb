{
 "cells": [
  {
   "cell_type": "code",
   "execution_count": 1,
   "id": "386469da-c4d3-4d90-960c-f5cf6956e991",
   "metadata": {},
   "outputs": [
    {
     "name": "stdout",
     "output_type": "stream",
     "text": [
      "'CS549_LabAssignment1_2024 (1).pdf'   ping_data.pkl   Untitled1.ipynb\n",
      " CS549_TheoryAssignment1_2024.pdf     ping_data.py    Untitled.ipynb\n",
      " ping_data_new.pkl                    ping.py\n"
     ]
    }
   ],
   "source": [
    "ls\n"
   ]
  },
  {
   "cell_type": "code",
   "execution_count": 10,
   "id": "4300a68d-8b41-4454-898b-e61bcc3673c6",
   "metadata": {},
   "outputs": [
    {
     "name": "stdout",
     "output_type": "stream",
     "text": [
      "2\n"
     ]
    }
   ],
   "source": [
    "import pickle\n",
    "from datetime import datetime\n",
    "\n",
    "with open('ping_data_new.pkl', 'rb') as file:\n",
    "    loaded_data = pickle.load(file)\n",
    "\n",
    "# Access the loaded data\n",
    "Names =loaded_data['Names']\n",
    "Servers = loaded_data['Servers']\n",
    "Times = loaded_data['Times']\n",
    "Delays = loaded_data['Delays']\n",
    "Throughputs = loaded_data['Throughputs']\n",
    "\n",
    "# dt_object = datetime.utcfromtimestamp(Times[0][0])\n",
    "# print(dt_object.minute)\n",
    "\n",
    "print(len(Throughputs))\n"
   ]
  },
  {
   "cell_type": "code",
   "execution_count": 8,
   "id": "7a07913f-3669-41a7-b0b8-1eeadcbbbe78",
   "metadata": {},
   "outputs": [
    {
     "ename": "IndexError",
     "evalue": "list index out of range",
     "output_type": "error",
     "traceback": [
      "\u001b[0;31m---------------------------------------------------------------------------\u001b[0m",
      "\u001b[0;31mIndexError\u001b[0m                                Traceback (most recent call last)",
      "Cell \u001b[0;32mIn[8], line 4\u001b[0m\n\u001b[1;32m      2\u001b[0m ls1 \u001b[38;5;241m=\u001b[39m [datetime\u001b[38;5;241m.\u001b[39mutcfromtimestamp(ts)\u001b[38;5;241m.\u001b[39mstrftime(\u001b[38;5;124m'\u001b[39m\u001b[38;5;124m%\u001b[39m\u001b[38;5;124mY-\u001b[39m\u001b[38;5;124m%\u001b[39m\u001b[38;5;124mm-\u001b[39m\u001b[38;5;132;01m%d\u001b[39;00m\u001b[38;5;124m \u001b[39m\u001b[38;5;124m%\u001b[39m\u001b[38;5;124mH:\u001b[39m\u001b[38;5;124m%\u001b[39m\u001b[38;5;124mM:\u001b[39m\u001b[38;5;124m%\u001b[39m\u001b[38;5;124mS\u001b[39m\u001b[38;5;124m'\u001b[39m) \u001b[38;5;28;01mfor\u001b[39;00m ts \u001b[38;5;129;01min\u001b[39;00m Times[\u001b[38;5;241m0\u001b[39m]]\n\u001b[1;32m      3\u001b[0m ls2 \u001b[38;5;241m=\u001b[39m [datetime\u001b[38;5;241m.\u001b[39mutcfromtimestamp(ts)\u001b[38;5;241m.\u001b[39mstrftime(\u001b[38;5;124m'\u001b[39m\u001b[38;5;124m%\u001b[39m\u001b[38;5;124mY-\u001b[39m\u001b[38;5;124m%\u001b[39m\u001b[38;5;124mm-\u001b[39m\u001b[38;5;132;01m%d\u001b[39;00m\u001b[38;5;124m \u001b[39m\u001b[38;5;124m%\u001b[39m\u001b[38;5;124mH:\u001b[39m\u001b[38;5;124m%\u001b[39m\u001b[38;5;124mM:\u001b[39m\u001b[38;5;124m%\u001b[39m\u001b[38;5;124mS\u001b[39m\u001b[38;5;124m'\u001b[39m) \u001b[38;5;28;01mfor\u001b[39;00m ts \u001b[38;5;129;01min\u001b[39;00m Times[\u001b[38;5;241m1\u001b[39m]]\n\u001b[0;32m----> 4\u001b[0m ls3 \u001b[38;5;241m=\u001b[39m [datetime\u001b[38;5;241m.\u001b[39mutcfromtimestamp(ts)\u001b[38;5;241m.\u001b[39mstrftime(\u001b[38;5;124m'\u001b[39m\u001b[38;5;124m%\u001b[39m\u001b[38;5;124mY-\u001b[39m\u001b[38;5;124m%\u001b[39m\u001b[38;5;124mm-\u001b[39m\u001b[38;5;132;01m%d\u001b[39;00m\u001b[38;5;124m \u001b[39m\u001b[38;5;124m%\u001b[39m\u001b[38;5;124mH:\u001b[39m\u001b[38;5;124m%\u001b[39m\u001b[38;5;124mM:\u001b[39m\u001b[38;5;124m%\u001b[39m\u001b[38;5;124mS\u001b[39m\u001b[38;5;124m'\u001b[39m) \u001b[38;5;28;01mfor\u001b[39;00m ts \u001b[38;5;129;01min\u001b[39;00m \u001b[43mTimes\u001b[49m\u001b[43m[\u001b[49m\u001b[38;5;241;43m2\u001b[39;49m\u001b[43m]\u001b[49m]\n\u001b[1;32m      6\u001b[0m human_readable_times\u001b[38;5;241m.\u001b[39mappend(ls1)\n\u001b[1;32m      7\u001b[0m human_readable_times\u001b[38;5;241m.\u001b[39mappend(ls2)\n",
      "\u001b[0;31mIndexError\u001b[0m: list index out of range"
     ]
    }
   ],
   "source": [
    "human_readable_times = []\n",
    "ls1 = [datetime.utcfromtimestamp(ts).strftime('%Y-%m-%d %H:%M:%S') for ts in Times[0]]\n",
    "ls2 = [datetime.utcfromtimestamp(ts).strftime('%Y-%m-%d %H:%M:%S') for ts in Times[1]]\n",
    "ls3 = [datetime.utcfromtimestamp(ts).strftime('%Y-%m-%d %H:%M:%S') for ts in Times[2]]\n",
    "\n",
    "human_readable_times.append(ls1)\n",
    "human_readable_times.append(ls2)\n",
    "human_readable_times.append(ls3)\n"
   ]
  }
 ],
 "metadata": {
  "kernelspec": {
   "display_name": "Python 3 (ipykernel)",
   "language": "python",
   "name": "python3"
  },
  "language_info": {
   "codemirror_mode": {
    "name": "ipython",
    "version": 3
   },
   "file_extension": ".py",
   "mimetype": "text/x-python",
   "name": "python",
   "nbconvert_exporter": "python",
   "pygments_lexer": "ipython3",
   "version": "3.10.12"
  }
 },
 "nbformat": 4,
 "nbformat_minor": 5
}
